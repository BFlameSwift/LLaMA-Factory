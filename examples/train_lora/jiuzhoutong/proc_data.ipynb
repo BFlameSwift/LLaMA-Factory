{
 "cells": [
  {
   "cell_type": "code",
   "execution_count": 15,
   "metadata": {},
   "outputs": [],
   "source": [
    "import json\n",
    "import os"
   ]
  },
  {
   "cell_type": "code",
   "execution_count": 16,
   "metadata": {},
   "outputs": [],
   "source": [
    "def convert_format(input_data):\n",
    "    \"\"\"\n",
    "    将第一种格式 {\"input\", \"target\":\"\"} 转换为第二种格式 {\"messages\": [...]}\n",
    "    \n",
    "    参数:\n",
    "    input_data (dict): 输入的数据，格式为 {\"input\", \"target\":\"\"}\n",
    "    \n",
    "    返回:\n",
    "    dict: 转换后的数据，格式为 {\"messages\": [...]}\n",
    "    \"\"\"\n",
    "    # 处理输入数据\n",
    "    input_text = input_data.get(\"input\", \"\")\n",
    "    target_text = input_data.get(\"target\", \"\")\n",
    "    \n",
    "    # 创建新格式\n",
    "    output_data = {\n",
    "        \"messages\": [\n",
    "            {\n",
    "                \"value\": input_text,\n",
    "                \"from\": \"human\"\n",
    "            },\n",
    "            {\n",
    "                \"value\": target_text,\n",
    "                \"from\": \"gpt\"\n",
    "            }\n",
    "        ]\n",
    "    }\n",
    "    \n",
    "    return output_data"
   ]
  },
  {
   "cell_type": "code",
   "execution_count": 17,
   "metadata": {},
   "outputs": [],
   "source": [
    "def proc_jiuzhoutong_data(input_path,output_path):\n",
    "    output_data = []\n",
    "    with open(input_path, \"r\", encoding=\"utf-8\") as f:\n",
    "        for line in f:\n",
    "            if line.strip():  # 跳过空行\n",
    "                try:\n",
    "                    # 解析每一行的JSON对象\n",
    "                    item = json.loads(line)\n",
    "                    # 转换格式\n",
    "                    converted_item = convert_format(item)\n",
    "                    output_data.append(converted_item)\n",
    "                except json.JSONDecodeError as e:\n",
    "                    print(f\"跳过无效的JSON行: {e}\")\n",
    "                    continue\n",
    "    with open(output_path, \"w\", encoding=\"utf-8\") as f:\n",
    "        json.dump(output_data, f, ensure_ascii=False, indent=4)\n",
    "    print(f\"数据已转换并保存到 {output_path}\")\n",
    "    "
   ]
  },
  {
   "cell_type": "code",
   "execution_count": 18,
   "metadata": {},
   "outputs": [
    {
     "name": "stdout",
     "output_type": "stream",
     "text": [
      "数据已转换并保存到 /home/jiangjin/mydata/jiuzhoutong/4class-20250419/processed_train_data_4_class_400.json\n"
     ]
    }
   ],
   "source": [
    "jiuzhoutong_0421_path = \"/home/jiangjin/mydata/jiuzhoutong/4class-20250419/train_data_4_class_400.jsonl\"\n",
    "outptu_path = \"/home/jiangjin/mydata/jiuzhoutong/4class-20250419/processed_train_data_4_class_400.json\"\n",
    "proc_jiuzhoutong_data(jiuzhoutong_0421_path, outptu_path)"
   ]
  },
  {
   "cell_type": "code",
   "execution_count": 19,
   "metadata": {},
   "outputs": [],
   "source": [
    "# import json\n",
    "# import os\n",
    "\n",
    "# input_data = json.load(open(\"/home/jiangjin/mydata/jiuzhoutong/qwen-max/sft_data/jiuzhoutong_4_17216.jsonl\", \"r\", encoding=\"utf-8\"))\n",
    "\n",
    "# input_path = \"/home/jiangjin/mydata/jiuzhoutong\"\n",
    "\n",
    "# output_path = \"/home/jiangjin/mydata/jiuzhoutong/jiuzhoutong_4_17216_0409.jsonl\"\n",
    "\n",
    "# output_data = []\n",
    "# for data in input_data:\n",
    "#     converted_data = convert_format(data)\n",
    "#     output_data.append(converted_data)\n",
    "# with open(output_path, \"w\", encoding=\"utf-8\") as f:\n",
    "#     json.dump(output_data, f, ensure_ascii=False, indent=4)\n",
    "# print(f\"数据已转换并保存到 {output_path}\")"
   ]
  }
 ],
 "metadata": {
  "kernelspec": {
   "display_name": "base",
   "language": "python",
   "name": "python3"
  },
  "language_info": {
   "codemirror_mode": {
    "name": "ipython",
    "version": 3
   },
   "file_extension": ".py",
   "mimetype": "text/x-python",
   "name": "python",
   "nbconvert_exporter": "python",
   "pygments_lexer": "ipython3",
   "version": "3.11.10"
  }
 },
 "nbformat": 4,
 "nbformat_minor": 2
}
